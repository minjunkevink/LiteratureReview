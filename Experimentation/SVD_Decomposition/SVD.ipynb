{
 "cells": [
  {
   "cell_type": "code",
   "execution_count": 1,
   "id": "b6c2373f-a467-4d63-845e-a8e11b176fa7",
   "metadata": {},
   "outputs": [],
   "source": [
    "import numpy as np"
   ]
  },
  {
   "cell_type": "code",
   "execution_count": 2,
   "id": "edeb67ed-190a-486e-823e-0fc264ec1e44",
   "metadata": {},
   "outputs": [],
   "source": [
    "# Example matrix\n",
    "A = np.array([[1, 2], [3, 4], [5, 6]])\n"
   ]
  },
  {
   "cell_type": "code",
   "execution_count": 4,
   "id": "cc7e0b26-d2af-432e-810a-24af21b21428",
   "metadata": {},
   "outputs": [],
   "source": [
    "# Compute Co-Variance Matrix\n",
    "ATA = np.dot(A.T, A)\n",
    "AAT = np.dot(A, A.T)\n"
   ]
  },
  {
   "cell_type": "code",
   "execution_count": 5,
   "id": "14cc13fa-3150-4026-815a-921631eb63f4",
   "metadata": {},
   "outputs": [],
   "source": [
    "# Compute Eigenvalues\n",
    "eigenvalues_ATA, eigenvectors_ATA = np.linalg.eig(ATA)\n",
    "eigenvalues_AAT, eigenvectors_AAT = np.linalg.eig(AAT)"
   ]
  },
  {
   "cell_type": "code",
   "execution_count": 6,
   "id": "f8565f89-7d3d-4e24-8fd3-157c85c2c5f3",
   "metadata": {},
   "outputs": [],
   "source": [
    "# Sort\n",
    "singular_values = np.sqrt(eigenvalues_ATA)\n",
    "sort_indices = np.argsort(singular_values)[::-1]\n",
    "singular_values = singular_values[sort_indices]\n",
    "U = eigenvectors_AAT[:, sort_indices]\n",
    "V = eigenvectors_ATA[:, sort_indices]"
   ]
  },
  {
   "cell_type": "code",
   "execution_count": 8,
   "id": "218d7550-d11b-4d13-98f7-f7bddd3e1570",
   "metadata": {},
   "outputs": [],
   "source": [
    "# Computer Sigma Matrix\n",
    "Sigma = np.zeros_like(A, dtype=float)\n",
    "np.fill_diagonal(Sigma, singular_values)\n",
    "Sigma = Sigma[:A.shape[1], :]"
   ]
  },
  {
   "cell_type": "code",
   "execution_count": 10,
   "id": "92ea90d0-7cab-49a1-a820-4b50ea290a5f",
   "metadata": {},
   "outputs": [],
   "source": [
    "# SVD Reconstruction\n",
    "reconstructed_A = np.dot(U, np.dot(Sigma, V.T))"
   ]
  },
  {
   "cell_type": "code",
   "execution_count": 11,
   "id": "b3fe7bca-9d0e-46ef-bdb1-3ae29afa9eb8",
   "metadata": {},
   "outputs": [
    {
     "name": "stdout",
     "output_type": "stream",
     "text": [
      "[[-0.88346102 -0.2298477 ]\n",
      " [-0.24078249 -0.52474482]\n",
      " [ 0.40189603 -0.81964194]] [[9.52551809 0.        ]\n",
      " [0.         0.51430058]] [[-0.61962948 -0.78489445]\n",
      " [-0.78489445  0.61962948]]\n"
     ]
    }
   ],
   "source": [
    "# print\n",
    "print(U, Sigma, V.T)"
   ]
  },
  {
   "cell_type": "code",
   "execution_count": 14,
   "id": "5a3e020f-273a-4277-bc59-e93042d9b09a",
   "metadata": {},
   "outputs": [
    {
     "data": {
      "text/plain": [
       "False"
      ]
     },
     "execution_count": 14,
     "metadata": {},
     "output_type": "execute_result"
    }
   ],
   "source": [
    "# Verification\n",
    "reconstructed_A = np.dot(U, np.dot(Sigma, V.T))\n",
    "np.allclose(A, reconstructed_A)"
   ]
  },
  {
   "cell_type": "code",
   "execution_count": 15,
   "id": "3c06079b-8a1e-4781-af29-0a1993de348c",
   "metadata": {},
   "outputs": [],
   "source": [
    "def compute_svd(A):\n",
    "    # Steps 3 to 6\n",
    "    ATA = np.dot(A.T, A)\n",
    "    AAT = np.dot(A, A.T)\n",
    "    eigenvalues_ATA, eigenvectors_ATA = np.linalg.eig(ATA)\n",
    "    eigenvalues_AAT, eigenvectors_AAT = np.linalg.eig(AAT)\n",
    "    singular_values = np.sqrt(eigenvalues_ATA)\n",
    "    sort_indices = np.argsort(singular_values)[::-1]\n",
    "    singular_values = singular_values[sort_indices]\n",
    "    U = eigenvectors_AAT[:, sort_indices]\n",
    "    V = eigenvectors_ATA[:, sort_indices]\n",
    "    Sigma = np.zeros_like(A, dtype=float)\n",
    "    np.fill_diagonal(Sigma, singular_values)\n",
    "    Sigma = Sigma[:A.shape[1], :]\n",
    "\n",
    "    return U, Sigma, V.T\n"
   ]
  },
  {
   "cell_type": "code",
   "execution_count": 17,
   "id": "e2b6e0da-2243-49ad-a751-7f8edf69985f",
   "metadata": {},
   "outputs": [
    {
     "data": {
      "text/plain": [
       "False"
      ]
     },
     "execution_count": 17,
     "metadata": {},
     "output_type": "execute_result"
    }
   ],
   "source": [
    "U, Sigma, Vt = compute_svd(A)\n",
    "reconstructed_A = np.dot(U, np.dot(Sigma, Vt))\n",
    "np.allclose(A, reconstructed_A)"
   ]
  },
  {
   "cell_type": "code",
   "execution_count": null,
   "id": "0d304418-f587-4afc-8423-9faa2b0ff162",
   "metadata": {},
   "outputs": [],
   "source": []
  }
 ],
 "metadata": {
  "kernelspec": {
   "display_name": "Python 3 (ipykernel)",
   "language": "python",
   "name": "python3"
  },
  "language_info": {
   "codemirror_mode": {
    "name": "ipython",
    "version": 3
   },
   "file_extension": ".py",
   "mimetype": "text/x-python",
   "name": "python",
   "nbconvert_exporter": "python",
   "pygments_lexer": "ipython3",
   "version": "3.10.11"
  }
 },
 "nbformat": 4,
 "nbformat_minor": 5
}
